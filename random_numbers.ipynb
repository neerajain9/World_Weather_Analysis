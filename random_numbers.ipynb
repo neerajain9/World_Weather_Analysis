{
 "cells": [
  {
   "cell_type": "code",
   "execution_count": 2,
   "id": "1b21ee6c",
   "metadata": {},
   "outputs": [],
   "source": [
    "# Import the random Module\n",
    "import random"
   ]
  },
  {
   "cell_type": "code",
   "execution_count": 25,
   "id": "3799ae00",
   "metadata": {},
   "outputs": [
    {
     "data": {
      "text/plain": [
       "4.98"
      ]
     },
     "execution_count": 25,
     "metadata": {},
     "output_type": "execute_result"
    }
   ],
   "source": [
    "# TEST\n",
    "round(random.uniform(-10, 10),2)"
   ]
  },
  {
   "cell_type": "code",
   "execution_count": 33,
   "id": "55a709db",
   "metadata": {},
   "outputs": [
    {
     "data": {
      "text/plain": [
       "13.329975816001625"
      ]
     },
     "execution_count": 33,
     "metadata": {},
     "output_type": "execute_result"
    }
   ],
   "source": [
    "# TEST\n",
    "random_number = random.randint(-90, 89) + random.random()\n",
    "random_number"
   ]
  },
  {
   "cell_type": "code",
   "execution_count": 40,
   "id": "4ccdb621",
   "metadata": {},
   "outputs": [
    {
     "data": {
      "text/plain": [
       "[-26.80919607020985,\n",
       " -47.94373041008557,\n",
       " -46.07511911208131,\n",
       " 75.6417806250666,\n",
       " 25.410888913058695,\n",
       " 34.26459507947378,\n",
       " -49.75894843354279,\n",
       " 71.47636811611166,\n",
       " -7.921801899457326,\n",
       " 63.33065901415066]"
      ]
     },
     "execution_count": 40,
     "metadata": {},
     "output_type": "execute_result"
    }
   ],
   "source": [
    "# TEST (using \"randint\")\n",
    "#Generate 10 random latitudes\n",
    "x = 1\n",
    "latitude = []\n",
    "while x < 11:\n",
    "    random_latitude = random.randint(-90, 89) + random.random()\n",
    "    latitude.append(random_latitude)\n",
    "    x += 1\n",
    "\n",
    "latitude"
   ]
  },
  {
   "cell_type": "code",
   "execution_count": 41,
   "id": "6cb61016",
   "metadata": {},
   "outputs": [
    {
     "data": {
      "text/plain": [
       "[-26.80919607020985,\n",
       " -47.94373041008557,\n",
       " -46.07511911208131,\n",
       " 75.6417806250666,\n",
       " 25.410888913058695,\n",
       " 34.26459507947378,\n",
       " -49.75894843354279,\n",
       " 71.47636811611166,\n",
       " -7.921801899457326,\n",
       " 63.33065901415066]"
      ]
     },
     "execution_count": 41,
     "metadata": {},
     "output_type": "execute_result"
    }
   ],
   "source": [
    "# TEST (using \"randint\")\n",
    "#Generate 10 random longitudes\n",
    "x = 1\n",
    "longitude = []\n",
    "while x < 11:\n",
    "    random_longitude = random.randint(-180, 179) + random.random()\n",
    "    longitude.append(random_longitude)\n",
    "    x += 1\n",
    "\n",
    "latitude"
   ]
  },
  {
   "cell_type": "code",
   "execution_count": 42,
   "id": "7d5dd37d",
   "metadata": {},
   "outputs": [
    {
     "data": {
      "text/plain": [
       "[3.471734856641161,\n",
       " -5.136158189285528,\n",
       " -59.19872216324948,\n",
       " 72.82119620818432,\n",
       " 72.55555656017509,\n",
       " -59.03107830405505,\n",
       " -86.66876722750776,\n",
       " -56.83559519885915,\n",
       " -5.322437773822173,\n",
       " 51.89552177787748]"
      ]
     },
     "execution_count": 42,
     "metadata": {},
     "output_type": "execute_result"
    }
   ],
   "source": [
    "# TEST (using \"randrnge\")\n",
    "#Generate 10 random latitudes\n",
    "x = 1\n",
    "latitude = []\n",
    "while x < 11:\n",
    "    random_latitude = random.randrange(-90, 89, 3) + random.random()\n",
    "    latitude.append(random_latitude)\n",
    "    x += 1\n",
    "\n",
    "latitude"
   ]
  },
  {
   "cell_type": "code",
   "execution_count": 43,
   "id": "4e0a3a35",
   "metadata": {},
   "outputs": [
    {
     "data": {
      "text/plain": [
       "[3.471734856641161,\n",
       " -5.136158189285528,\n",
       " -59.19872216324948,\n",
       " 72.82119620818432,\n",
       " 72.55555656017509,\n",
       " -59.03107830405505,\n",
       " -86.66876722750776,\n",
       " -56.83559519885915,\n",
       " -5.322437773822173,\n",
       " 51.89552177787748]"
      ]
     },
     "execution_count": 43,
     "metadata": {},
     "output_type": "execute_result"
    }
   ],
   "source": [
    "# TEST (using \"uniform\")\n",
    "#Generate 10 random longitudes\n",
    "x = 1\n",
    "longitude = []\n",
    "while x < 11:\n",
    "    random_longitude = random.uniform(-180, 179)\n",
    "    longitude.append(random_longitude)\n",
    "    x += 1\n",
    "\n",
    "latitude"
   ]
  },
  {
   "cell_type": "code",
   "execution_count": null,
   "id": "ac9c438c",
   "metadata": {},
   "outputs": [],
   "source": [
    "# running one of these functions above using a while loop or other methods may take more programming than needed\n",
    "#\n",
    "# Lets try alternate methods\n",
    "\n"
   ]
  },
  {
   "cell_type": "code",
   "execution_count": 44,
   "id": "74faeadd",
   "metadata": {},
   "outputs": [],
   "source": [
    "# Import the NumPy module.\n",
    "import numpy as np"
   ]
  },
  {
   "cell_type": "code",
   "execution_count": 54,
   "id": "4a40e68e",
   "metadata": {},
   "outputs": [
    {
     "name": "stdout",
     "output_type": "stream",
     "text": [
      "27.1 µs ± 530 ns per loop (mean ± std. dev. of 7 runs, 10000 loops each)\n"
     ]
    }
   ],
   "source": [
    "# Import timeit. (FASTER TO RUN AND ONLY ONE LINER)\n",
    "import timeit\n",
    "\n",
    "%timeit np.random.uniform(-90.000, 90.000, size = 1500)\n",
    "# np.random.uniform(-90.000, 90.000, size = 1500) #returns an array"
   ]
  },
  {
   "cell_type": "code",
   "execution_count": 55,
   "id": "84352ce2",
   "metadata": {},
   "outputs": [
    {
     "name": "stdout",
     "output_type": "stream",
     "text": [
      "2.85 ms ± 109 µs per loop (mean ± std. dev. of 7 runs, 100 loops each)\n"
     ]
    }
   ],
   "source": [
    "# SLOWER TO RUN (100x SLOWER) AND LOT MORE CODE\n",
    "def latitudes(size):\n",
    "    latitudes = [] #list\n",
    "    x = 0\n",
    "    while x < (size):\n",
    "        random_lat = random.randint(-90, 90) + random.random()\n",
    "        latitudes.append(random_lat)\n",
    "        x += 1\n",
    "    return latitudes\n",
    "# Call the function with 1500.\n",
    "%timeit latitudes(1500)\n",
    "#latitudes(1500) #returns a list"
   ]
  },
  {
   "cell_type": "code",
   "execution_count": 56,
   "id": "f960cee1",
   "metadata": {},
   "outputs": [
    {
     "name": "stdout",
     "output_type": "stream",
     "text": [
      "28 µs ± 785 ns per loop (mean ± std. dev. of 7 runs, 10000 loops each)\n",
      "27.6 µs ± 523 ns per loop (mean ± std. dev. of 7 runs, 10000 loops each)\n",
      "27 µs ± 358 ns per loop (mean ± std. dev. of 7 runs, 10000 loops each)\n",
      "27.1 µs ± 257 ns per loop (mean ± std. dev. of 7 runs, 10000 loops each)\n",
      "26.7 µs ± 300 ns per loop (mean ± std. dev. of 7 runs, 10000 loops each)\n",
      "26.7 µs ± 340 ns per loop (mean ± std. dev. of 7 runs, 10000 loops each)\n",
      "27.1 µs ± 753 ns per loop (mean ± std. dev. of 7 runs, 10000 loops each)\n",
      "27.3 µs ± 988 ns per loop (mean ± std. dev. of 7 runs, 10000 loops each)\n",
      "2.21 s ± 24.5 ms per loop (mean ± std. dev. of 7 runs, 1 loop each)\n"
     ]
    }
   ],
   "source": [
    "# Refactor code\n",
    "def latitudes(size):\n",
    "    %timeit np.random.uniform(-90.000, 90.000, size = size)\n",
    "    return latitudes\n",
    "\n",
    "# Call the function with 1500.\n",
    "%timeit latitudes(1500)"
   ]
  },
  {
   "cell_type": "code",
   "execution_count": null,
   "id": "af4c636d",
   "metadata": {},
   "outputs": [],
   "source": []
  }
 ],
 "metadata": {
  "kernelspec": {
   "display_name": "PythonData",
   "language": "python",
   "name": "pythondata"
  },
  "language_info": {
   "codemirror_mode": {
    "name": "ipython",
    "version": 3
   },
   "file_extension": ".py",
   "mimetype": "text/x-python",
   "name": "python",
   "nbconvert_exporter": "python",
   "pygments_lexer": "ipython3",
   "version": "3.9.6"
  }
 },
 "nbformat": 4,
 "nbformat_minor": 5
}
